{
 "cells": [
  {
   "cell_type": "code",
   "execution_count": 1,
   "id": "2216e653",
   "metadata": {},
   "outputs": [],
   "source": [
    "import numpy as np\n",
    "import pandas as pd\n",
    "from sqlalchemy import create_engine\n",
    "from utils import three_attempts_per_season, detect_shooting_slumps, get_career_3pt_pct, get_career_3pa_per_game"
   ]
  },
  {
   "cell_type": "code",
   "execution_count": 2,
   "id": "fdcca9d3",
   "metadata": {},
   "outputs": [],
   "source": [
    "engine = create_engine(\"sqlite:///Data/shooting_slumps_data.db\")"
   ]
  },
  {
   "cell_type": "code",
   "execution_count": 3,
   "id": "18f6c5d3",
   "metadata": {},
   "outputs": [],
   "source": [
    "active_player_ids = pd.read_sql(\"ACTIVE_PLAYER_IDS\", engine)\n",
    "game_logs = pd.read_sql(\"PLAYER_GAME_LOGS\", engine)\n",
    "career_stats = pd.read_sql(\"PLAYER_CAREER_STATS\", engine)"
   ]
  },
  {
   "cell_type": "code",
   "execution_count": 4,
   "id": "b37c5439",
   "metadata": {},
   "outputs": [
    {
     "name": "stdout",
     "output_type": "stream",
     "text": [
      "Index(['PLAYER_NAME', 'PLAYER_ID'], dtype='object')\n"
     ]
    }
   ],
   "source": [
    "print(active_player_ids.columns)"
   ]
  },
  {
   "cell_type": "code",
   "execution_count": 5,
   "id": "22e68916",
   "metadata": {},
   "outputs": [
    {
     "name": "stdout",
     "output_type": "stream",
     "text": [
      "Index(['SEASON_ID', 'Player_ID', 'Game_ID', 'GAME_DATE', 'MATCHUP', 'WL',\n",
      "       'MIN', 'FGM', 'FGA', 'FG_PCT', 'FG3M', 'FG3A', 'FG3_PCT', 'FTM', 'FTA',\n",
      "       'FT_PCT', 'OREB', 'DREB', 'REB', 'AST', 'STL', 'BLK', 'TOV', 'PF',\n",
      "       'PTS', 'PLUS_MINUS', 'VIDEO_AVAILABLE'],\n",
      "      dtype='object')\n"
     ]
    }
   ],
   "source": [
    "print(game_logs.columns)"
   ]
  },
  {
   "cell_type": "code",
   "execution_count": 6,
   "id": "86f376c0",
   "metadata": {},
   "outputs": [
    {
     "name": "stdout",
     "output_type": "stream",
     "text": [
      "Index(['PLAYER_ID', 'SEASON_ID', 'LEAGUE_ID', 'TEAM_ID', 'TEAM_ABBREVIATION',\n",
      "       'PLAYER_AGE', 'GP', 'GS', 'MIN', 'FGM', 'FGA', 'FG_PCT', 'FG3M', 'FG3A',\n",
      "       'FG3_PCT', 'FTM', 'FTA', 'FT_PCT', 'OREB', 'DREB', 'REB', 'AST', 'STL',\n",
      "       'BLK', 'TOV', 'PF', 'PTS', 'PLAYER_NAME'],\n",
      "      dtype='object')\n"
     ]
    }
   ],
   "source": [
    "print(career_stats.columns)"
   ]
  },
  {
   "cell_type": "code",
   "execution_count": 7,
   "id": "b950dc40",
   "metadata": {},
   "outputs": [],
   "source": [
    "#Isolate to players that average no fewer than 250 threes a season\n",
    "filtered_player_ids = []\n",
    "filtered_career_stats = []\n",
    "filtered_game_logs = []\n",
    "\n",
    "for player_id in active_player_ids[\"PLAYER_ID\"]:\n",
    "    avg_3pa = three_attempts_per_season(career_stats[career_stats[\"PLAYER_ID\"] == player_id])\n",
    "    if avg_3pa != None and avg_3pa >= 250:\n",
    "        filtered_player_ids.append(player_id)\n",
    "\n",
    "\n",
    "filtered_career_stats = career_stats[career_stats[\"PLAYER_ID\"].isin(filtered_player_ids)]\n",
    "filtered_game_logs = game_logs[game_logs[\"Player_ID\"].isin(filtered_player_ids)]"
   ]
  },
  {
   "cell_type": "code",
   "execution_count": 9,
   "id": "3e51e8f7",
   "metadata": {},
   "outputs": [
    {
     "name": "stdout",
     "output_type": "stream",
     "text": [
      "Detecting slumps for player 1/135\n",
      "Detecting slumps for player 2/135\n",
      "Detecting slumps for player 3/135\n",
      "Detecting slumps for player 4/135\n",
      "Detecting slumps for player 5/135\n",
      "Detecting slumps for player 6/135\n",
      "Detecting slumps for player 7/135\n",
      "Detecting slumps for player 8/135\n",
      "Detecting slumps for player 9/135\n",
      "Detecting slumps for player 10/135\n",
      "Detecting slumps for player 11/135\n",
      "Detecting slumps for player 12/135\n",
      "Detecting slumps for player 13/135\n",
      "Detecting slumps for player 14/135\n",
      "Detecting slumps for player 15/135\n",
      "Detecting slumps for player 16/135\n",
      "Detecting slumps for player 17/135\n",
      "Detecting slumps for player 18/135\n",
      "Detecting slumps for player 19/135\n",
      "Detecting slumps for player 20/135\n",
      "Detecting slumps for player 21/135\n",
      "Detecting slumps for player 22/135\n",
      "Detecting slumps for player 23/135\n",
      "Detecting slumps for player 24/135\n",
      "Detecting slumps for player 25/135\n",
      "Detecting slumps for player 26/135\n",
      "Detecting slumps for player 27/135\n",
      "Detecting slumps for player 28/135\n",
      "Detecting slumps for player 29/135\n",
      "Detecting slumps for player 30/135\n",
      "Detecting slumps for player 31/135\n",
      "Detecting slumps for player 32/135\n",
      "Detecting slumps for player 33/135\n",
      "Detecting slumps for player 34/135\n",
      "Detecting slumps for player 35/135\n",
      "Detecting slumps for player 36/135\n",
      "Detecting slumps for player 37/135\n",
      "Detecting slumps for player 38/135\n",
      "Detecting slumps for player 39/135\n",
      "Detecting slumps for player 40/135\n",
      "Detecting slumps for player 41/135\n",
      "Detecting slumps for player 42/135\n",
      "Detecting slumps for player 43/135\n",
      "Detecting slumps for player 44/135\n",
      "Detecting slumps for player 45/135\n",
      "Detecting slumps for player 46/135\n",
      "Detecting slumps for player 47/135\n",
      "Detecting slumps for player 48/135\n"
     ]
    },
    {
     "name": "stderr",
     "output_type": "stream",
     "text": [
      "/Users/nehalchigurupati/Documents/ShootingSlumps/utils.py:38: RuntimeWarning: invalid value encountered in scalar divide\n",
      "  span_avg_3pt = game_data.iloc[start:end+1][\"FG3M\"].sum() / game_data.iloc[start:end+1][\"FG3A\"].sum()\n"
     ]
    },
    {
     "name": "stdout",
     "output_type": "stream",
     "text": [
      "Detecting slumps for player 49/135\n",
      "Detecting slumps for player 50/135\n",
      "Detecting slumps for player 51/135\n",
      "Detecting slumps for player 52/135\n",
      "Detecting slumps for player 53/135\n",
      "Detecting slumps for player 54/135\n",
      "Detecting slumps for player 55/135\n",
      "Detecting slumps for player 56/135\n",
      "Detecting slumps for player 57/135\n",
      "Detecting slumps for player 58/135\n",
      "Detecting slumps for player 59/135\n",
      "Detecting slumps for player 60/135\n",
      "Detecting slumps for player 61/135\n",
      "Detecting slumps for player 62/135\n",
      "Detecting slumps for player 63/135\n",
      "Detecting slumps for player 64/135\n",
      "Detecting slumps for player 65/135\n",
      "Detecting slumps for player 66/135\n",
      "Detecting slumps for player 67/135\n",
      "Detecting slumps for player 68/135\n",
      "Detecting slumps for player 69/135\n",
      "Detecting slumps for player 70/135\n",
      "Detecting slumps for player 71/135\n",
      "Detecting slumps for player 72/135\n",
      "Detecting slumps for player 73/135\n",
      "Detecting slumps for player 74/135\n",
      "Detecting slumps for player 75/135\n",
      "Detecting slumps for player 76/135\n",
      "Detecting slumps for player 77/135\n",
      "Detecting slumps for player 78/135\n",
      "Detecting slumps for player 79/135\n",
      "Detecting slumps for player 80/135\n",
      "Detecting slumps for player 81/135\n",
      "Detecting slumps for player 82/135\n",
      "Detecting slumps for player 83/135\n",
      "Detecting slumps for player 84/135\n",
      "Detecting slumps for player 85/135\n",
      "Detecting slumps for player 86/135\n",
      "Detecting slumps for player 87/135\n",
      "Detecting slumps for player 88/135\n",
      "Detecting slumps for player 89/135\n",
      "Detecting slumps for player 90/135\n",
      "Detecting slumps for player 91/135\n",
      "Detecting slumps for player 92/135\n",
      "Detecting slumps for player 93/135\n",
      "Detecting slumps for player 94/135\n",
      "Detecting slumps for player 95/135\n",
      "Detecting slumps for player 96/135\n",
      "Detecting slumps for player 97/135\n",
      "Detecting slumps for player 98/135\n",
      "Detecting slumps for player 99/135\n",
      "Detecting slumps for player 100/135\n",
      "Detecting slumps for player 101/135\n",
      "Detecting slumps for player 102/135\n",
      "Detecting slumps for player 103/135\n",
      "Detecting slumps for player 104/135\n",
      "Detecting slumps for player 105/135\n",
      "Detecting slumps for player 106/135\n",
      "Detecting slumps for player 107/135\n",
      "Detecting slumps for player 108/135\n",
      "Detecting slumps for player 109/135\n",
      "Detecting slumps for player 110/135\n",
      "Detecting slumps for player 111/135\n",
      "Detecting slumps for player 112/135\n",
      "Detecting slumps for player 113/135\n",
      "Detecting slumps for player 114/135\n",
      "Detecting slumps for player 115/135\n",
      "Detecting slumps for player 116/135\n",
      "Detecting slumps for player 117/135\n",
      "Detecting slumps for player 118/135\n",
      "Detecting slumps for player 119/135\n",
      "Detecting slumps for player 120/135\n",
      "Detecting slumps for player 121/135\n",
      "Detecting slumps for player 122/135\n",
      "Detecting slumps for player 123/135\n",
      "Detecting slumps for player 124/135\n",
      "Detecting slumps for player 125/135\n",
      "Detecting slumps for player 126/135\n",
      "Detecting slumps for player 127/135\n",
      "Detecting slumps for player 128/135\n",
      "Detecting slumps for player 129/135\n",
      "Detecting slumps for player 130/135\n",
      "Detecting slumps for player 131/135\n",
      "Detecting slumps for player 132/135\n",
      "Detecting slumps for player 133/135\n",
      "Detecting slumps for player 134/135\n",
      "Detecting slumps for player 135/135\n"
     ]
    }
   ],
   "source": [
    "#Find all shooting slumps\n",
    "slump_player_id = []\n",
    "slump_length = []\n",
    "slump_change_3pct = []\n",
    "slump_change_3pa = []\n",
    "counter = 1\n",
    "for player_id in filtered_player_ids:\n",
    "    print(\"Detecting slumps for player \" + str(counter) + \"/\" + str(len(filtered_player_ids)))\n",
    "    counter += 1\n",
    "    #Get shooting slump dataframes\n",
    "    player_career = filtered_career_stats[filtered_career_stats[\"PLAYER_ID\"] == player_id]\n",
    "    player_games = filtered_game_logs[filtered_game_logs[\"Player_ID\"] == player_id]\n",
    "    shooting_slumps = detect_shooting_slumps(player_games, player_career)\n",
    "    \n",
    "    for slump in shooting_slumps:\n",
    "        slump_player_id.append(player_id)\n",
    "        slump_length.append(len(slump))\n",
    "        \n",
    "        career_3pct = get_career_3pt_pct(player_career)\n",
    "        slump_3pct = float(np.sum(slump[\"FG3M\"]))/float(np.sum(slump[\"FG3A\"]))\n",
    "        slump_change_3pct.append(career_3pct - slump_3pct)\n",
    "        \n",
    "        slump_change_3pa.append(np.sum((slump[\"FG3A\"]) / len(slump)) - get_career_3pa_per_game(player_games))\n",
    "\n",
    "slump_data = pd.DataFrame({\"PLAYER_ID\": slump_player_id, \"NUM_GAMES\":slump_length, \"DECR_3PCT\": slump_change_3pct, \"CHANGE_3PA\": slump_change_3pa})"
   ]
  },
  {
   "cell_type": "code",
   "execution_count": 10,
   "id": "e3253c8f",
   "metadata": {},
   "outputs": [
    {
     "data": {
      "text/plain": [
       "3480"
      ]
     },
     "execution_count": 10,
     "metadata": {},
     "output_type": "execute_result"
    }
   ],
   "source": [
    "slump_data.to_sql(\"SLUMP_DATA\", engine, if_exists=\"replace\", index=False)"
   ]
  },
  {
   "cell_type": "code",
   "execution_count": null,
   "id": "7e7008c3",
   "metadata": {},
   "outputs": [],
   "source": []
  }
 ],
 "metadata": {
  "kernelspec": {
   "display_name": "Python 3",
   "language": "python",
   "name": "python3"
  },
  "language_info": {
   "codemirror_mode": {
    "name": "ipython",
    "version": 3
   },
   "file_extension": ".py",
   "mimetype": "text/x-python",
   "name": "python",
   "nbconvert_exporter": "python",
   "pygments_lexer": "ipython3",
   "version": "3.11.4"
  }
 },
 "nbformat": 4,
 "nbformat_minor": 5
}
