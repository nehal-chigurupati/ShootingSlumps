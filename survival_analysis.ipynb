{
 "cells": [
  {
   "cell_type": "code",
   "execution_count": 1,
   "id": "d69d8233",
   "metadata": {},
   "outputs": [],
   "source": [
    "import numpy as np\n",
    "import pandas as pd\n",
    "from sqlalchemy import create_engine\n",
    "from lifelines import CoxPHFitter, KaplanMeierFitter\n",
    "from lifelines.utils import median_survival_times\n",
    "import matplotlib.pylab as plt\n",
    "plt.rcParams['figure.dpi'] = 500"
   ]
  },
  {
   "cell_type": "code",
   "execution_count": 2,
   "id": "5fcda63f",
   "metadata": {},
   "outputs": [],
   "source": [
    "engine = create_engine(\"sqlite:///Data/shooting_slumps_data.db\")"
   ]
  },
  {
   "cell_type": "code",
   "execution_count": 3,
   "id": "9e0502d2",
   "metadata": {},
   "outputs": [],
   "source": [
    "player_ids = pd.read_sql(\"ACTIVE_PLAYER_IDS\", engine)\n",
    "slump_data = pd.read_sql(\"SLUMP_DATA\", engine)"
   ]
  },
  {
   "cell_type": "code",
   "execution_count": 4,
   "id": "d54cca73",
   "metadata": {},
   "outputs": [],
   "source": [
    "slump_data[\"STATUS\"] = [1]*len(slump_data)"
   ]
  },
  {
   "cell_type": "code",
   "execution_count": 5,
   "id": "bc596a12",
   "metadata": {},
   "outputs": [
    {
     "name": "stdout",
     "output_type": "stream",
     "text": [
      "Index(['PLAYER_ID', 'NUM_GAMES', 'DECR_3PCT', 'CHANGE_3PA', 'STATUS'], dtype='object')\n"
     ]
    }
   ],
   "source": [
    "print(slump_data.columns)"
   ]
  },
  {
   "cell_type": "code",
   "execution_count": 6,
   "id": "ea5333fa",
   "metadata": {},
   "outputs": [
    {
     "data": {
      "text/plain": [
       "<Axes: xlabel='timeline'>"
      ]
     },
     "execution_count": 6,
     "metadata": {},
     "output_type": "execute_result"
    },
    {
     "data": {
      "image/png": "[encoded data removed]",
      "text/plain": [
       "<Figure size 432x288 with 1 Axes>"
      ]
     },
     "metadata": {
      "needs_background": "light"
     },
     "output_type": "display_data"
    }
   ],
   "source": [
    "kmf = KaplanMeierFitter()\n",
    "kmf.fit(durations = slump_data[\"NUM_GAMES\"], event_observed = slump_data[\"STATUS\"])\n",
    "kmf.plot_survival_function()"
   ]
  },
  {
   "cell_type": "code",
   "execution_count": 7,
   "id": "784853b1",
   "metadata": {},
   "outputs": [
    {
     "data": {
      "text/plain": [
       "750"
      ]
     },
     "execution_count": 7,
     "metadata": {},
     "output_type": "execute_result"
    }
   ],
   "source": [
    "num_games = np.arange(5, 80, .1)\n",
    "surv_probs = kmf.survival_function_at_times(np.arange(5, 80, .1))\n",
    "kmf_surv_function = pd.DataFrame({\"NUM_GAMES\": num_games, \"SURV_PROB\": surv_probs})\n",
    "kmf_surv_function.to_sql(\"KMF_SURVIVAL_PROBABILITIES\", engine, if_exists=\"replace\", index=False)"
   ]
  },
  {
   "cell_type": "code",
   "execution_count": 8,
   "id": "5e904cc8",
   "metadata": {},
   "outputs": [],
   "source": [
    "kmf_surv_function.to_csv(\"Data/kmf_survival_probabilities.csv\")"
   ]
  },
  {
   "cell_type": "code",
   "execution_count": 9,
   "id": "a2c43833",
   "metadata": {},
   "outputs": [
    {
     "name": "stdout",
     "output_type": "stream",
     "text": [
      "7.0\n"
     ]
    }
   ],
   "source": [
    "print(kmf.median_survival_time_)"
   ]
  },
  {
   "cell_type": "code",
   "execution_count": 10,
   "id": "2d8df4af",
   "metadata": {},
   "outputs": [
    {
     "name": "stdout",
     "output_type": "stream",
     "text": [
      "     KM_estimate_lower_0.95  KM_estimate_upper_0.95\n",
      "0.5                     7.0                     8.0\n"
     ]
    }
   ],
   "source": [
    "print(median_survival_times(kmf.confidence_interval_))"
   ]
  },
  {
   "cell_type": "code",
   "execution_count": 11,
   "id": "5dd9e346",
   "metadata": {},
   "outputs": [
    {
     "data": {
      "text/html": [
       "<div>\n",
       "<style scoped>\n",
       "    .dataframe tbody tr th:only-of-type {\n",
       "        vertical-align: middle;\n",
       "    }\n",
       "\n",
       "    .dataframe tbody tr th {\n",
       "        vertical-align: top;\n",
       "    }\n",
       "\n",
       "    .dataframe thead th {\n",
       "        text-align: right;\n",
       "    }\n",
       "</style>\n",
       "<table border=\"1\" class=\"dataframe\">\n",
       "  <tbody>\n",
       "    <tr>\n",
       "      <th>model</th>\n",
       "      <td>lifelines.CoxPHFitter</td>\n",
       "    </tr>\n",
       "    <tr>\n",
       "      <th>duration col</th>\n",
       "      <td>'NUM_GAMES'</td>\n",
       "    </tr>\n",
       "    <tr>\n",
       "      <th>event col</th>\n",
       "      <td>'STATUS'</td>\n",
       "    </tr>\n",
       "    <tr>\n",
       "      <th>baseline estimation</th>\n",
       "      <td>breslow</td>\n",
       "    </tr>\n",
       "    <tr>\n",
       "      <th>number of observations</th>\n",
       "      <td>3480</td>\n",
       "    </tr>\n",
       "    <tr>\n",
       "      <th>number of events observed</th>\n",
       "      <td>3480</td>\n",
       "    </tr>\n",
       "    <tr>\n",
       "      <th>partial log-likelihood</th>\n",
       "      <td>-24625.39</td>\n",
       "    </tr>\n",
       "    <tr>\n",
       "      <th>time fit was run</th>\n",
       "      <td>2024-01-13 01:05:33 UTC</td>\n",
       "    </tr>\n",
       "  </tbody>\n",
       "</table>\n",
       "</div><table border=\"1\" class=\"dataframe\">\n",
       "  <thead>\n",
       "    <tr style=\"text-align: right;\">\n",
       "      <th style=\"min-width: 12px;\"></th>\n",
       "      <th style=\"min-width: 12px;\">coef</th>\n",
       "      <th style=\"min-width: 12px;\">exp(coef)</th>\n",
       "      <th style=\"min-width: 12px;\">se(coef)</th>\n",
       "      <th style=\"min-width: 12px;\">coef lower 95%</th>\n",
       "      <th style=\"min-width: 12px;\">coef upper 95%</th>\n",
       "      <th style=\"min-width: 12px;\">exp(coef) lower 95%</th>\n",
       "      <th style=\"min-width: 12px;\">exp(coef) upper 95%</th>\n",
       "      <th style=\"min-width: 12px;\">cmp to</th>\n",
       "      <th style=\"min-width: 12px;\">z</th>\n",
       "      <th style=\"min-width: 12px;\">p</th>\n",
       "      <th style=\"min-width: 12px;\">-log2(p)</th>\n",
       "    </tr>\n",
       "  </thead>\n",
       "  <tbody>\n",
       "    <tr>\n",
       "      <th>PLAYER_ID</th>\n",
       "      <td>0.00</td>\n",
       "      <td>1.00</td>\n",
       "      <td>0.00</td>\n",
       "      <td>0.00</td>\n",
       "      <td>0.00</td>\n",
       "      <td>1.00</td>\n",
       "      <td>1.00</td>\n",
       "      <td>0.00</td>\n",
       "      <td>3.61</td>\n",
       "      <td>&lt;0.005</td>\n",
       "      <td>11.70</td>\n",
       "    </tr>\n",
       "    <tr>\n",
       "      <th>DECR_3PCT</th>\n",
       "      <td>10.65</td>\n",
       "      <td>42378.16</td>\n",
       "      <td>0.36</td>\n",
       "      <td>9.96</td>\n",
       "      <td>11.35</td>\n",
       "      <td>21110.65</td>\n",
       "      <td>85071.21</td>\n",
       "      <td>0.00</td>\n",
       "      <td>29.97</td>\n",
       "      <td>&lt;0.005</td>\n",
       "      <td>652.99</td>\n",
       "    </tr>\n",
       "    <tr>\n",
       "      <th>CHANGE_3PA</th>\n",
       "      <td>0.10</td>\n",
       "      <td>1.11</td>\n",
       "      <td>0.01</td>\n",
       "      <td>0.08</td>\n",
       "      <td>0.12</td>\n",
       "      <td>1.08</td>\n",
       "      <td>1.13</td>\n",
       "      <td>0.00</td>\n",
       "      <td>9.12</td>\n",
       "      <td>&lt;0.005</td>\n",
       "      <td>63.55</td>\n",
       "    </tr>\n",
       "  </tbody>\n",
       "</table><br><div>\n",
       "<style scoped>\n",
       "    .dataframe tbody tr th:only-of-type {\n",
       "        vertical-align: middle;\n",
       "    }\n",
       "\n",
       "    .dataframe tbody tr th {\n",
       "        vertical-align: top;\n",
       "    }\n",
       "\n",
       "    .dataframe thead th {\n",
       "        text-align: right;\n",
       "    }\n",
       "</style>\n",
       "<table border=\"1\" class=\"dataframe\">\n",
       "  <tbody>\n",
       "    <tr>\n",
       "      <th>Concordance</th>\n",
       "      <td>0.69</td>\n",
       "    </tr>\n",
       "    <tr>\n",
       "      <th>Partial AIC</th>\n",
       "      <td>49256.77</td>\n",
       "    </tr>\n",
       "    <tr>\n",
       "      <th>log-likelihood ratio test</th>\n",
       "      <td>556.54 on 3 df</td>\n",
       "    </tr>\n",
       "    <tr>\n",
       "      <th>-log2(p) of ll-ratio test</th>\n",
       "      <td>397.22</td>\n",
       "    </tr>\n",
       "  </tbody>\n",
       "</table>\n",
       "</div>"
      ],
      "text/latex": [
       "\\begin{tabular}{lrrrrrrrrrrr}\n",
       " & coef & exp(coef) & se(coef) & coef lower 95% & coef upper 95% & exp(coef) lower 95% & exp(coef) upper 95% & cmp to & z & p & -log2(p) \\\\\n",
       "covariate &  &  &  &  &  &  &  &  &  &  &  \\\\\n",
       "PLAYER_ID & 0.00 & 1.00 & 0.00 & 0.00 & 0.00 & 1.00 & 1.00 & 0.00 & 3.61 & 0.00 & 11.70 \\\\\n",
       "DECR_3PCT & 10.65 & 42378.16 & 0.36 & 9.96 & 11.35 & 21110.65 & 85071.21 & 0.00 & 29.97 & 0.00 & 652.99 \\\\\n",
       "CHANGE_3PA & 0.10 & 1.11 & 0.01 & 0.08 & 0.12 & 1.08 & 1.13 & 0.00 & 9.12 & 0.00 & 63.55 \\\\\n",
       "\\end{tabular}\n"
      ],
      "text/plain": [
       "<lifelines.CoxPHFitter: fitted with 3480 total observations, 0 right-censored observations>\n",
       "             duration col = 'NUM_GAMES'\n",
       "                event col = 'STATUS'\n",
       "      baseline estimation = breslow\n",
       "   number of observations = 3480\n",
       "number of events observed = 3480\n",
       "   partial log-likelihood = -24625.39\n",
       "         time fit was run = 2024-01-13 01:05:33 UTC\n",
       "\n",
       "---\n",
       "             coef  exp(coef)   se(coef)   coef lower 95%   coef upper 95%  exp(coef) lower 95%  exp(coef) upper 95%\n",
       "covariate                                                                                                          \n",
       "PLAYER_ID    0.00       1.00       0.00             0.00             0.00                 1.00                 1.00\n",
       "DECR_3PCT   10.65   42378.16       0.36             9.96            11.35             21110.65             85071.21\n",
       "CHANGE_3PA   0.10       1.11       0.01             0.08             0.12                 1.08                 1.13\n",
       "\n",
       "             cmp to     z      p   -log2(p)\n",
       "covariate                                  \n",
       "PLAYER_ID      0.00  3.61 <0.005      11.70\n",
       "DECR_3PCT      0.00 29.97 <0.005     652.99\n",
       "CHANGE_3PA     0.00  9.12 <0.005      63.55\n",
       "---\n",
       "Concordance = 0.69\n",
       "Partial AIC = 49256.77\n",
       "log-likelihood ratio test = 556.54 on 3 df\n",
       "-log2(p) of ll-ratio test = 397.22"
      ]
     },
     "metadata": {},
     "output_type": "display_data"
    }
   ],
   "source": [
    "cph = CoxPHFitter()\n",
    "cph.fit(slump_data, duration_col = 'NUM_GAMES', event_col = 'STATUS')\n",
    "cph.print_summary()"
   ]
  },
  {
   "cell_type": "code",
   "execution_count": 12,
   "id": "66d317ee",
   "metadata": {},
   "outputs": [
    {
     "data": {
      "text/plain": [
       "<matplotlib.legend.Legend at 0x16b704690>"
      ]
     },
     "execution_count": 12,
     "metadata": {},
     "output_type": "execute_result"
    },
    {
     "data": {
      "image/png": "[encoded data removed]",
      "text/plain": [
       "<Figure size 432x288 with 1 Axes>"
      ]
     },
     "metadata": {
      "needs_background": "light"
     },
     "output_type": "display_data"
    }
   ],
   "source": [
    "title=\"Relationship between length of shooting slump and drop in 3PT efficiency\"\n",
    "values = [.05, .1, .15, .2]\n",
    "xlabel=\"Length of slump (# of games)\"\n",
    "ylabel=\"Probability of slump continuing\"\n",
    "plot = cph.plot_partial_effects_on_outcome(covariates = 'DECR_3PCT', values = values, cmap = 'coolwarm', title=title, xlabel=xlabel, ylabel=ylabel)\n",
    "plt.legend(labels=[\"5%\", \"10%\", \"15%\", \"20%\"], title=\"Drop in 3PT% during slump\")"
   ]
  },
  {
   "cell_type": "code",
   "execution_count": 13,
   "id": "a8ce2956",
   "metadata": {},
   "outputs": [],
   "source": [
    "lines = plot.get_lines()  # Get the lines from the Axes object\n",
    "data_points = [line.get_data() for line in lines]  # Extract data from each line\n",
    "\n",
    "slump_length_plot_data = data_points[0][0]\n",
    "bin_one_data = data_points[1][1]\n",
    "bin_two_data = data_points[2][1]\n",
    "bin_three_data = data_points[3][1]\n",
    "bin_four_data = data_points[4][1]\n",
    "\n",
    "out = {\n",
    "    \"slump_length\": slump_length_plot_data,\n",
    "    \"five_pct\": bin_one_data,\n",
    "    \"ten_pct\": bin_two_data,\n",
    "    \"fifteen_pct\": bin_three_data,\n",
    "    \"twenty_pct\": bin_four_data\n",
    "}\n",
    "three_pct_slump_curves = pd.DataFrame(out)\n",
    "\n",
    "three_pct_slump_curves.to_sql(\"THREE_PCT_SLUMP_CURVES\", engine, if_exists=\"replace\", index=False)\n",
    "three_pct_slump_curves.to_csv(\"Data/three_pct_slump_curves.csv\")"
   ]
  },
  {
   "cell_type": "code",
   "execution_count": 14,
   "id": "fa4ee611",
   "metadata": {},
   "outputs": [
    {
     "data": {
      "text/plain": [
       "<matplotlib.legend.Legend at 0x16b7047d0>"
      ]
     },
     "execution_count": 14,
     "metadata": {},
     "output_type": "execute_result"
    },
    {
     "data": {
      "image/png": "[encoded data removed]",
      "text/plain": [
       "<Figure size 432x288 with 1 Axes>"
      ]
     },
     "metadata": {
      "needs_background": "light"
     },
     "output_type": "display_data"
    }
   ],
   "source": [
    "title=\"Relationship between length of shooting slump and change in 3PA per game\"\n",
    "values = [-2.0, -1.5, -1.0, -.5, 0.0, .5, 1.0, 1.5, 2.0]\n",
    "xlabel=\"Length of slump (# of games)\"\n",
    "ylabel=\"Probability of slump continuing\"\n",
    "plot = cph.plot_partial_effects_on_outcome(covariates = 'CHANGE_3PA', values = values, cmap = 'coolwarm', title=title, xlabel=xlabel, ylabel=ylabel)\n",
    "plt.legend(labels=[\"-2\", \"-1.5\", \"-1\", \"-.5\", \"0\", \".5\", \"1\", \"1.5\", \"2\"], title=\"Change 3PA per game\")"
   ]
  },
  {
   "cell_type": "code",
   "execution_count": 15,
   "id": "29797c21",
   "metadata": {},
   "outputs": [
    {
     "name": "stdout",
     "output_type": "stream",
     "text": [
      "10\n"
     ]
    }
   ],
   "source": [
    "lines = plot.get_lines()  # Get the lines from the Axes object\n",
    "data_points = [line.get_data() for line in lines]  # Extract data from each line\n",
    "print(len(data_points))\n",
    "x = data_points[0][0]\n",
    "out = {}\n",
    "out[\"SLUMP_LENGTH\"] = x\n",
    "out[\"BIN_ONE\"] = data_points[0][1]\n",
    "out[\"BIN_TWO\"] = data_points[1][1]\n",
    "out[\"BIN_THREE\"] = data_points[3][1]\n",
    "out[\"BIN_FOUR\"] = data_points[4][1]\n",
    "out[\"BIN_FIVE\"]= data_points[5][1]\n",
    "out[\"BIN_SIX\"] = data_points[6][1]\n",
    "out[\"BIN_SEVEN\"] = data_points[7][1]\n",
    "out[\"BIN_EIGHT\"] = data_points[8][1]\n",
    "out[\"BIN_NINE\"] = data_points[9][1]\n",
    "\n",
    "three_attempts_slump_curves = pd.DataFrame(out)\n",
    "three_attempts_slump_curves.to_sql(\"THREE_ATTEMPTS_SLUMP_CURVES\", engine, if_exists=\"replace\", index=False)\n",
    "three_attempts_slump_curves.to_csv(\"Data/three_attempts_slump_curves.csv\")"
   ]
  },
  {
   "cell_type": "code",
   "execution_count": null,
   "id": "1e3ad13a",
   "metadata": {},
   "outputs": [],
   "source": []
  }
 ],
 "metadata": {
  "kernelspec": {
   "display_name": "Python 3",
   "language": "python",
   "name": "python3"
  },
  "language_info": {
   "codemirror_mode": {
    "name": "ipython",
    "version": 3
   },
   "file_extension": ".py",
   "mimetype": "text/x-python",
   "name": "python",
   "nbconvert_exporter": "python",
   "pygments_lexer": "ipython3",
   "version": "3.11.4"
  }
 },
 "nbformat": 4,
 "nbformat_minor": 5
}
